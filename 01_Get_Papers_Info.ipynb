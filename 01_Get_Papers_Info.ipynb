{
 "cells": [
  {
   "cell_type": "markdown",
   "metadata": {},
   "source": [
    "# Get paper data\n",
    "\n",
    "The idea is get the data (publisher, type, years of the publication, main author) of each paper than be download from the Sci-Hub server.\n",
    "\n",
    "We use the api of http://search.crossref.org/ than return a json file. Thanks!"
   ]
  },
  {
   "cell_type": "code",
   "execution_count": null,
   "metadata": {
    "collapsed": false
   },
   "outputs": [],
   "source": [
    "import sys\n",
    "import json\n",
    "import time\n",
    "\n",
    "import requests"
   ]
  },
  {
   "cell_type": "code",
   "execution_count": null,
   "metadata": {
    "collapsed": true
   },
   "outputs": [],
   "source": [
    "# First, download the data\n",
    "! wget http://datadryad.org/bitstream/handle/10255/dryad.114259/scihub_data.zip\\?sequence\\=1"
   ]
  },
  {
   "cell_type": "code",
   "execution_count": null,
   "metadata": {
    "collapsed": true
   },
   "outputs": [],
   "source": [
    "# Unzip the data\n",
    "! mkdir data\n",
    "! unzip scihub_data.zip -d data"
   ]
  },
  {
   "cell_type": "code",
   "execution_count": null,
   "metadata": {
    "collapsed": false
   },
   "outputs": [],
   "source": [
    "# Read only 1 time each doi\n",
    "dois = set()\n",
    "cnt = 0\n",
    "\n",
    "with open('data/scihub_data/dec2015.tab', 'r') as file:\n",
    "    for line in file.readlines():\n",
    "        try:\n",
    "            date, doi, ip, country, city, pos = line.split('\\t')\n",
    "        except:\n",
    "            print(line)\n",
    "        dois.add(doi)\n",
    "        cnt += 1"
   ]
  },
  {
   "cell_type": "code",
   "execution_count": null,
   "metadata": {
    "collapsed": false
   },
   "outputs": [],
   "source": [
    "print('Numeber of download: {0}'.format(cnt))\n",
    "print(\"Number of diferetns doi: {0}\".format(len(dois)))"
   ]
  },
  {
   "cell_type": "code",
   "execution_count": null,
   "metadata": {
    "collapsed": false
   },
   "outputs": [],
   "source": [
    "def paperData(doi):\n",
    "    \"\"\"\n",
    "    Get the data of paper from this doi.\n",
    "    \n",
    "    Parameter\n",
    "    ---------\n",
    "    doi: str\n",
    "       Doi if the paper. Ex 10.1016/j.corsci.2011.04.019\n",
    "       \n",
    "    Return\n",
    "    ------\n",
    "    publisher: str\n",
    "        Name of the publisher.\n",
    "    type_pub: str\n",
    "        journal-article, book, etc.\n",
    "    year: str\n",
    "        Year of thepublication.\n",
    "    author: str\n",
    "        Name of the main author.\n",
    "       \n",
    "    Error\n",
    "    -----\n",
    "    * if doi don't have '/' return error\n",
    "    * if doi don't mache with a paper\n",
    "    \"\"\"\n",
    "    if not '/' in doi:\n",
    "        msn_error = \"Error. DOI don't have '/'\"\n",
    "        return False, msn_error\n",
    "\n",
    "    # url to make the get\n",
    "    num, text = doi.split('/', maxsplit=1)\n",
    "    url = \"https://api.crossref.org/v1/works/http://dx.doi.org/{0}/{1}\".format(num, text)\n",
    "    \n",
    "    # Get the url\n",
    "    html = requests.get(url)\n",
    "    \n",
    "    # Check that is a valid doi\n",
    "    if html.text == 'Resource not found.':\n",
    "        msn_error = \"Error. Is not a valid doi\"\n",
    "        return False, msn_error\n",
    "    \n",
    "    data_json = json.loads(html.text)\n",
    "    \n",
    "    publisher = data_json[\"message\"][\"publisher\"]\n",
    "    type_pub = data_json[\"message\"][\"type\"]\n",
    "    year = data_json[\"message\"][\"created\"][\"date-time\"]\n",
    "    try:\n",
    "        family_name = data_json[\"message\"][\"author\"][0][\"family\"]\n",
    "    except:\n",
    "        family_name = ''\n",
    "    try:\n",
    "        given_name = data_json[\"message\"][\"author\"][0][\"given\"]\n",
    "    except:\n",
    "        given_name = ''\n",
    "    author = data_json = family_name + ' ' +  given_name\n",
    "    \n",
    "    return publisher, type_pub, year, author"
   ]
  },
  {
   "cell_type": "code",
   "execution_count": null,
   "metadata": {
    "collapsed": false
   },
   "outputs": [],
   "source": [
    "# An simple test\n",
    "paperData(\"10.1016/j.corsci.2011.04.019\")"
   ]
  },
  {
   "cell_type": "code",
   "execution_count": null,
   "metadata": {
    "collapsed": true
   },
   "outputs": [],
   "source": [
    "error_cnt = 0\n",
    "errors_dois = []\n",
    "total_dois = len(dois)\n",
    "start = time.time()\n",
    "\n",
    "# If I have a internet problem and the folow script break,\n",
    "# no start from the beginning again. \n",
    "last_number = 0"
   ]
  },
  {
   "cell_type": "code",
   "execution_count": null,
   "metadata": {
    "collapsed": false
   },
   "outputs": [],
   "source": [
    "for cnt, doi in enumerate(dois):\n",
    "    if cnt < last_number:\n",
    "        pass\n",
    "    else:\n",
    "        with open('data/paper_data.csv', 'a') as file:\n",
    "            sys.stdout.write('\\rTry to download Doi: {0}, {1} of {2}. Errors: {3}'.format(doi, cnt, total_dois, error_cnt))\n",
    "            data = paperData(doi)\n",
    "\n",
    "            if data[0] == False:\n",
    "                error_cnt += 1\n",
    "                errors_dois.append(doi)\n",
    "            else:\n",
    "                text = \"{4}, {0}, {1}, {2}, {3}\\n\".format(data[0], data[1], data[2], data[3], doi)\n",
    "                file.write(text)\n",
    "\n",
    "            if cnt%20 == 0:\n",
    "                file.flush()\n",
    "\n",
    "end = time.time()\n",
    "print('Total time:', end-start)"
   ]
  },
  {
   "cell_type": "code",
   "execution_count": null,
   "metadata": {
    "collapsed": true
   },
   "outputs": [],
   "source": []
  }
 ],
 "metadata": {
  "kernelspec": {
   "display_name": "Python 3",
   "language": "python",
   "name": "python3"
  },
  "language_info": {
   "codemirror_mode": {
    "name": "ipython",
    "version": 3
   },
   "file_extension": ".py",
   "mimetype": "text/x-python",
   "name": "python",
   "nbconvert_exporter": "python",
   "pygments_lexer": "ipython3",
   "version": "3.5.2"
  }
 },
 "nbformat": 4,
 "nbformat_minor": 0
}
