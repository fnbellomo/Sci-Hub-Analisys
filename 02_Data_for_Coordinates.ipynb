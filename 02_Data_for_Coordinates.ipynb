{
 "cells": [
  {
   "cell_type": "markdown",
   "metadata": {},
   "source": [
    "# Data for coordinate\n",
    "\n",
    "Now, generate a json file to make the map plot. The json have this format:\n",
    "\n",
    "```\n",
    "{\n",
    "\t\"0-10\": [{\n",
    "\t\t\"lat\": \"float\",\n",
    "\t\t\"long\": \"float\",\n",
    "\t\t\"download\": \"float\",\n",
    "\t\t\"publisher\": [{\n",
    "\t\t\t\"publisher with more download\": \"float\"},{\n",
    "\t\t\t\"second publisher with more download\": \"float\"},{\n",
    "\t\t\t\"third publisher with more download\": \"float\"\n",
    "\t\t}]\n",
    "\t}, {\n",
    "\t\t\"lat\": \"float\",\n",
    "\t\t\"long\": \"float\",\n",
    "\t\t\"download\": \"float\",\n",
    "\t\t\"publisher\": [{\n",
    "\t\t\t\"publisher with more download\": \"float\"},{\n",
    "\t\t\t\"second publisher with more download\": \"float\"},{\n",
    "\t\t\t\"third publisher with more download\": \"float\"\n",
    "\t\t}]\n",
    "\t}],\n",
    "\t\"10-100\": [{\n",
    "\t\t\"lat\": \"float\",\n",
    "\t\t\"long\": \"float\",\n",
    "\t\t\"download\": \"float\",\n",
    "\t\t\"publisher\": [{\n",
    "\t\t\t\"publisher with more download\": \"float\"},{\n",
    "\t\t\t\"second publisher with more download\": \"float\"},{\n",
    "\t\t\t\"third publisher with more download\": \"float\"\n",
    "\t\t}]\n",
    "\t}, {\n",
    "\t\t\"lat\": \"float\",\n",
    "\t\t\"long\": \"float\",\n",
    "\t\t\"download\": \"float\",\n",
    "\t\t\"publisher\": [{\n",
    "\t\t\t\"publisher with more download\": \"float\"},{\n",
    "\t\t\t\"second publisher with more download\": \"float\"},{\n",
    "\t\t\t\"third publisher with more download\": \"float\"\n",
    "\t\t}]\n",
    "\t}]\n",
    "}\n",
    "```"
   ]
  },
  {
   "cell_type": "code",
   "execution_count": null,
   "metadata": {
    "collapsed": false
   },
   "outputs": [],
   "source": [
    "# Read only 1 time each coordinate\n",
    "coords = set()\n",
    "cnt = 0\n",
    "\n",
    "with open('data/scihub_data/dec2015.tab', 'r') as file:\n",
    "    for line in file.readlines():\n",
    "        try:\n",
    "            date, doi, ip, country, city, pos = line.split('\\t')\n",
    "        except:\n",
    "            print(line)\n",
    "        coords.add(pos)\n",
    "        cnt += 1"
   ]
  },
  {
   "cell_type": "code",
   "execution_count": null,
   "metadata": {
    "collapsed": false
   },
   "outputs": [],
   "source": [
    "print('Numeber of download: {0}'.format(cnt))\n",
    "print(\"Number of diferetns coordinates: {0}\".format(len(coords)))"
   ]
  },
  {
   "cell_type": "code",
   "execution_count": null,
   "metadata": {
    "collapsed": true
   },
   "outputs": [],
   "source": [
    "# Dictionary to count download per coordinates\n",
    "download4coord = {}\n",
    "\n",
    "for coord in coords:\n",
    "    download4coord[coord] = 0"
   ]
  },
  {
   "cell_type": "code",
   "execution_count": null,
   "metadata": {
    "collapsed": false
   },
   "outputs": [],
   "source": [
    "# Count the number of download per coordinate\n",
    "with open('data/scihub_data/dec2015.tab', 'r') as file:\n",
    "    for line in file.readlines():\n",
    "        try:\n",
    "            date, doi, ip, country, city, pos = line.split('\\t')\n",
    "            download4coord[pos] += 1\n",
    "        except:\n",
    "            print(line)"
   ]
  },
  {
   "cell_type": "code",
   "execution_count": null,
   "metadata": {
    "collapsed": false
   },
   "outputs": [],
   "source": [
    "def create_json(download4coord, val_min, val_max, path=\"data/\"):\n",
    "    \"\"\"\n",
    "    Save \n",
    "    \"\"\"\n",
    "    \n",
    "    file_name = '{0}plot_data_{1}_{2}.json'.format(path, val_min, val_max) \n",
    "    \n",
    "    len_dic = len(download4coord)\n",
    "    cnt = 1\n",
    "\n",
    "    with open(file_name, 'w') as file:\n",
    "        file.write('[')\n",
    "\n",
    "        for key, val in download4coord.items():\n",
    "            if val_min <= val < val_max:\n",
    "\n",
    "                if ',' in key:\n",
    "                    lat, lon = key.split(',')\n",
    "\n",
    "                    file.write('{')\n",
    "                    text = '\"lat\":{0}, \"lon\":{1}, \"z\":{2}'.format(lat, lon[:-1], val)\n",
    "                    file.write(text)\n",
    "\n",
    "                    if cnt < len_dic:\n",
    "                        file.write('},\\n')\n",
    "                    else:\n",
    "                        file.write('}\\n')\n",
    "\n",
    "                cnt += 1\n",
    "\n",
    "        file.write(']')"
   ]
  },
  {
   "cell_type": "code",
   "execution_count": null,
   "metadata": {
    "collapsed": true
   },
   "outputs": [],
   "source": [
    "def create_json(file, min_download, max_download, download4coord path=\"data/\"):\n",
    "    \n",
    "    file_name = '{0}plot_data_{1}_{2}.json'.format(path, val_min, val_max)"
   ]
  },
  {
   "cell_type": "code",
   "execution_count": null,
   "metadata": {
    "collapsed": false
   },
   "outputs": [],
   "source": [
    "create_json(download4coord, 0, 10)\n",
    "create_json(download4coord, 10, 100)\n",
    "create_json(download4coord, 100, 500)\n",
    "create_json(download4coord, 500, 1000)\n",
    "create_json(download4coord, 1000, 2000)\n",
    "create_json(download4coord, 2000, 10000)"
   ]
  }
 ],
 "metadata": {
  "kernelspec": {
   "display_name": "Python 3",
   "language": "python",
   "name": "python3"
  },
  "language_info": {
   "codemirror_mode": {
    "name": "ipython",
    "version": 3
   },
   "file_extension": ".py",
   "mimetype": "text/x-python",
   "name": "python",
   "nbconvert_exporter": "python",
   "pygments_lexer": "ipython3",
   "version": "3.5.2"
  }
 },
 "nbformat": 4,
 "nbformat_minor": 0
}
